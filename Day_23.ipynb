{
  "nbformat": 4,
  "nbformat_minor": 0,
  "metadata": {
    "colab": {
      "provenance": [],
      "authorship_tag": "ABX9TyOsJeJmA9sNuRe2+a/mvl+8",
      "include_colab_link": true
    },
    "kernelspec": {
      "name": "python3",
      "display_name": "Python 3"
    },
    "language_info": {
      "name": "python"
    }
  },
  "cells": [
    {
      "cell_type": "markdown",
      "metadata": {
        "id": "view-in-github",
        "colab_type": "text"
      },
      "source": [
        "<a href=\"https://colab.research.google.com/github/HemantSudarshan/DSA-Battleground---30-Days-Mar-15-Apr-14-/blob/main/Day_23.ipynb\" target=\"_parent\"><img src=\"https://colab.research.google.com/assets/colab-badge.svg\" alt=\"Open In Colab\"/></a>"
      ]
    },
    {
      "cell_type": "code",
      "execution_count": 2,
      "metadata": {
        "id": "bo2O2tNO-hCY"
      },
      "outputs": [],
      "source": [
        "from typing import List\n",
        "class Solution:\n",
        "    def maxProfit(self, prices: List[int]) -> int:\n",
        "        profit = 0\n",
        "        buyCandidate = prices[0]\n",
        "        for i in range(len(prices)):\n",
        "            if prices[i] >= buyCandidate:\n",
        "                profit += prices[i] - buyCandidate\n",
        "            buyCandidate = prices[i]\n",
        "\n",
        "        return profit"
      ]
    },
    {
      "cell_type": "code",
      "source": [
        "class Solution:\n",
        "    def increasingTriplet(self, nums):\n",
        "        first = float('inf')\n",
        "        second = float('inf')\n",
        "        for n in nums:\n",
        "            if n <= first:\n",
        "                first = n\n",
        "            elif n <= second:\n",
        "                second = n\n",
        "            else:\n",
        "                return True\n",
        "        return False"
      ],
      "metadata": {
        "id": "9elFhFhe-ivI"
      },
      "execution_count": 3,
      "outputs": []
    }
  ]
}