{
  "nbformat": 4,
  "nbformat_minor": 0,
  "metadata": {
    "colab": {
      "provenance": [],
      "authorship_tag": "ABX9TyPz9jzGS57p1uUGO8G26d9l",
      "include_colab_link": true
    },
    "kernelspec": {
      "name": "python3",
      "display_name": "Python 3"
    },
    "language_info": {
      "name": "python"
    }
  },
  "cells": [
    {
      "cell_type": "markdown",
      "metadata": {
        "id": "view-in-github",
        "colab_type": "text"
      },
      "source": [
        "<a href=\"https://colab.research.google.com/github/HemantSudarshan/DSA-Battleground---30-Days-Mar-15-Apr-14-/blob/main/Day11.ipynb\" target=\"_parent\"><img src=\"https://colab.research.google.com/assets/colab-badge.svg\" alt=\"Open In Colab\"/></a>"
      ]
    },
    {
      "cell_type": "code",
      "execution_count": 5,
      "metadata": {
        "id": "vklprTVRevD9"
      },
      "outputs": [],
      "source": [
        "from typing import List\n",
        "class Solution:\n",
        "    def removeDuplicates(self, nums: List[int]) -> int:\n",
        "        k = 2\n",
        "        for i in range(2, len(nums)):\n",
        "            if nums[i] != nums[k - 2]:\n",
        "                nums[k] = nums[i]\n",
        "                k += 1\n",
        "        return k\n",
        ""
      ]
    },
    {
      "cell_type": "code",
      "source": [
        "def valid_abbr(word: str, abbr: str) -> bool:\n",
        "    i, j = 0, 0\n",
        "    while i < len(word) and j < len(abbr):\n",
        "        if abbr[j].isdigit():\n",
        "            if abbr[j] == '0':\n",
        "                return False\n",
        "            num = 0\n",
        "            while j < len(abbr) and abbr[j].isdigit():\n",
        "                num = num * 10 + int(abbr[j])\n",
        "                j += 1\n",
        "            i += num\n",
        "        else:\n",
        "            if i >= len(word) or word[i] != abbr[j]:\n",
        "                return False\n",
        "            i += 1\n",
        "            j += 1\n",
        "    return i == len(word) and j == len(abbr)\n",
        "\n",
        "print(valid_abbr(\"internationalization\", \"i12iz4n\"))\n",
        "print(valid_abbr(\"apple\", \"a2e\"))\n",
        "print(valid_abbr(\"substitution\", \"s10n\"))\n",
        "print(valid_abbr(\"substitution\", \"sub4u4\"))\n",
        "print(valid_abbr(\"hello\", \"h3o\"))\n",
        "print(valid_abbr(\"hello\", \"h10\"))\n"
      ],
      "metadata": {
        "colab": {
          "base_uri": "https://localhost:8080/"
        },
        "id": "iHlpqbsCe0n3",
        "outputId": "b0459405-e1a3-4af3-8bc1-32bf7be2c5e8"
      },
      "execution_count": 6,
      "outputs": [
        {
          "output_type": "stream",
          "name": "stdout",
          "text": [
            "True\n",
            "False\n",
            "True\n",
            "True\n",
            "True\n",
            "False\n"
          ]
        }
      ]
    }
  ]
}