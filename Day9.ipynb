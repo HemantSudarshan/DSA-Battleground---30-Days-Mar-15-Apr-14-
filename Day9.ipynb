{
  "cells": [
    {
      "cell_type": "markdown",
      "metadata": {
        "id": "view-in-github",
        "colab_type": "text"
      },
      "source": [
        "<a href=\"https://colab.research.google.com/github/HemantSudarshan/DSA-Battleground---30-Days-Mar-15-Apr-14-/blob/main/Day9.ipynb\" target=\"_parent\"><img src=\"https://colab.research.google.com/assets/colab-badge.svg\" alt=\"Open In Colab\"/></a>"
      ]
    },
    {
      "cell_type": "code",
      "source": [
        "from typing import List\n",
        "class Solution:\n",
        "    def findLUSlength(self, strs: List[str]) -> int:\n",
        "        def isSubsequence(s1, s2):\n",
        "\n",
        "            i = 0\n",
        "            for char in s2:\n",
        "                if i < len(s1) and s1[i] == char:\n",
        "                    i += 1\n",
        "                if i == len(s1):\n",
        "                    return True\n",
        "            return i == len(s1)\n",
        "\n",
        "        strs.sort(key=lambda s: -len(s))\n",
        "\n",
        "        for i, s in enumerate(strs):\n",
        "\n",
        "            if all(not isSubsequence(s, strs[j]) for j in range(len(strs)) if j != i):\n",
        "                return len(s)\n",
        "\n",
        "        return -1"
      ],
      "metadata": {
        "id": "j4-8C3x7wexh"
      },
      "execution_count": 2,
      "outputs": []
    },
    {
      "cell_type": "code",
      "source": [
        "class Solution:\n",
        "    def findClosestElements(self, arr: List[int], k: int, x: int) -> List[int]:\n",
        "\n",
        "        left = 0\n",
        "        right = len(arr) - k\n",
        "\n",
        "        while left < right:\n",
        "            mid = (left + right) // 2\n",
        "\n",
        "            if x - arr[mid] > arr[mid + k] - x:\n",
        "                left = mid + 1\n",
        "            else:\n",
        "                right = mid\n",
        "\n",
        "\n",
        "        return arr[left:left + k]"
      ],
      "metadata": {
        "id": "e4B-2p9AxL_8"
      },
      "execution_count": 3,
      "outputs": []
    }
  ],
  "metadata": {
    "colab": {
      "name": "Welcome To Colab",
      "toc_visible": true,
      "provenance": [],
      "include_colab_link": true
    },
    "kernelspec": {
      "display_name": "Python 3",
      "name": "python3"
    }
  },
  "nbformat": 4,
  "nbformat_minor": 0
}