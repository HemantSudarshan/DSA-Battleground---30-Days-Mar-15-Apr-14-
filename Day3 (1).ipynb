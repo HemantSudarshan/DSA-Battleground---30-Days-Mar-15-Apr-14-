{
  "cells": [
    {
      "cell_type": "markdown",
      "metadata": {
        "id": "view-in-github",
        "colab_type": "text"
      },
      "source": [
        "<a href=\"https://colab.research.google.com/github/HemantSudarshan/DSA-Battleground---30-Days-Mar-15-Apr-14-/blob/main/Day3.ipynb\" target=\"_parent\"><img src=\"https://colab.research.google.com/assets/colab-badge.svg\" alt=\"Open In Colab\"/></a>"
      ]
    },
    {
      "cell_type": "code",
      "source": [
        "def product(numbers):\n",
        "    length = len(numbers)\n",
        "    result = [1] * length\n",
        "\n",
        "    left = 1\n",
        "    for i in range(length):\n",
        "        result[i] = left\n",
        "        left *= numbers[i]\n",
        "\n",
        "    right= 1\n",
        "    for i in range(length-1, -1, -1):\n",
        "        result[i] *= right\n",
        "        right *= numbers[i]\n",
        "\n",
        "    return result\n",
        "\n",
        "try:\n",
        "    user = input(\"Enter numbers with spaces: \")\n",
        "    my_numbers = [int(x) for x in user.split()]\n",
        "\n",
        "    if not 2 <= len(my_numbers) <= 105 or any(x < -30 or x > 30 for x in my_numbers):\n",
        "        print(\"Error: Use 2-105 numbers between -30 and 30\")\n",
        "    else:\n",
        "        answer = product(my_numbers)\n",
        "        print(f\"Input: {my_numbers}\")\n",
        "        print(f\"Output: {answer}\")\n",
        "\n",
        "except ValueError:\n",
        "    print(\"Error: Use numbers only\")"
      ],
      "metadata": {
        "colab": {
          "base_uri": "https://localhost:8080/"
        },
        "id": "3oDYQb6mkR_J",
        "outputId": "c7bf20aa-3fea-4e54-a265-45df7317fcb6"
      },
      "execution_count": 4,
      "outputs": [
        {
          "output_type": "stream",
          "name": "stdout",
          "text": [
            "Enter numbers with spaces: 1 2 3 4\n",
            "Input: [1, 2, 3, 4]\n",
            "Output: [24, 12, 8, 6]\n"
          ]
        }
      ]
    },
    {
      "cell_type": "code",
      "source": [
        "class Solution:\n",
        "    def lengthOfLongestSubstring(self, text):\n",
        "        seen = {}\n",
        "        start = 0\n",
        "        best = 0\n",
        "\n",
        "        for i, ch in enumerate(text):\n",
        "            if ch in seen and seen[ch] >= start:\n",
        "                start = seen[ch] + 1\n",
        "            else:\n",
        "                best = max(best, i - start + 1)\n",
        "            seen[ch] = i\n",
        "\n",
        "        return best\n",
        "\n",
        "\n",
        "try:\n",
        "    mytext = input(\"Type text: \")\n",
        "    result = Solution().lengthOfLongestSubstring(mytext) if 0 <= len(mytext) <= 50000 else \"Length error\"\n",
        "    print(f\"Text: {mytext}\\nLongest: {result}\")\n",
        "except:\n",
        "    print(\"Bad input\")"
      ],
      "metadata": {
        "id": "FR_5ml3WkzNB",
        "outputId": "8a1e6fa3-913c-42aa-e5b4-34edbb305557",
        "colab": {
          "base_uri": "https://localhost:8080/"
        }
      },
      "execution_count": 5,
      "outputs": [
        {
          "output_type": "stream",
          "name": "stdout",
          "text": [
            "Type text: abcabcbb\n",
            "Text: abcabcbb\n",
            "Longest: 3\n"
          ]
        }
      ]
    }
  ],
  "metadata": {
    "colab": {
      "name": "Welcome To Colab",
      "toc_visible": true,
      "provenance": [],
      "include_colab_link": true
    },
    "kernelspec": {
      "display_name": "Python 3",
      "name": "python3"
    }
  },
  "nbformat": 4,
  "nbformat_minor": 0
}