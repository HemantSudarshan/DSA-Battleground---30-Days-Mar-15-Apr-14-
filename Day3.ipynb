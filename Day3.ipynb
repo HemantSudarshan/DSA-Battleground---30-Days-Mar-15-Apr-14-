{
  "cells": [
    {
      "cell_type": "markdown",
      "metadata": {
        "id": "view-in-github",
        "colab_type": "text"
      },
      "source": [
        "<a href=\"https://colab.research.google.com/github/HemantSudarshan/DSA-Battleground---30-Days-Mar-15-Apr-14-/blob/main/Day3.ipynb\" target=\"_parent\"><img src=\"https://colab.research.google.com/assets/colab-badge.svg\" alt=\"Open In Colab\"/></a>"
      ]
    },
    {
      "cell_type": "code",
      "source": [
        "class Solution:\n",
        "    def minSubArrayLen(self, target: int, nums: List[int]) -> int:\n",
        "        ans = len(nums)+1\n",
        "        left = prefix_sum = 0\n",
        "        for right in range(len(nums)):\n",
        "            prefix_sum += nums[right]\n",
        "            while prefix_sum >= target:\n",
        "                ans = min(ans, right-left+1)\n",
        "                prefix_sum -= nums[left]\n",
        "                left +=1\n",
        "\n",
        "        return ans if ans < len(nums)+1 else 0"
      ],
      "metadata": {
        "id": "ch4YFyzLyHmS"
      },
      "execution_count": 4,
      "outputs": []
    },
    {
      "cell_type": "code",
      "source": [
        "class Solution:\n",
        "    def minimumDifference(self, nums: List[int], k: int) -> int:\n",
        "        '''\n",
        "        1, 6, 7, 9\n",
        "        '''\n",
        "        nums.sort()\n",
        "        l = r= 0\n",
        "        res = float('inf')\n",
        "        while r < len(nums):\n",
        "            if r - l + 1 == k:\n",
        "                res = min(res, nums[r]-nums[l])\n",
        "                l += 1\n",
        "            r += 1\n",
        "        return res"
      ],
      "metadata": {
        "id": "XTN2X4VTz6pY"
      },
      "execution_count": 5,
      "outputs": []
    }
  ],
  "metadata": {
    "colab": {
      "name": "Welcome To Colab",
      "toc_visible": true,
      "provenance": [],
      "include_colab_link": true
    },
    "kernelspec": {
      "display_name": "Python 3",
      "name": "python3"
    }
  },
  "nbformat": 4,
  "nbformat_minor": 0
}