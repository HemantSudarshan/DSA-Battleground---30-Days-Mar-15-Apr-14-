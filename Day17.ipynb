{
  "nbformat": 4,
  "nbformat_minor": 0,
  "metadata": {
    "colab": {
      "provenance": [],
      "authorship_tag": "ABX9TyPBUkaqOPlz/N11KuAk7ecd",
      "include_colab_link": true
    },
    "kernelspec": {
      "name": "python3",
      "display_name": "Python 3"
    },
    "language_info": {
      "name": "python"
    }
  },
  "cells": [
    {
      "cell_type": "markdown",
      "metadata": {
        "id": "view-in-github",
        "colab_type": "text"
      },
      "source": [
        "<a href=\"https://colab.research.google.com/github/HemantSudarshan/DSA-Battleground---30-Days-Mar-15-Apr-14-/blob/main/Day17.ipynb\" target=\"_parent\"><img src=\"https://colab.research.google.com/assets/colab-badge.svg\" alt=\"Open In Colab\"/></a>"
      ]
    },
    {
      "cell_type": "code",
      "execution_count": 2,
      "metadata": {
        "id": "xiqrrAbEmksA"
      },
      "outputs": [],
      "source": [
        "from typing import List\n",
        "\n",
        "class Solution:\n",
        "    def shipWithinDays(self, weights: List[int], days: int) -> int:\n",
        "        left, right = max(weights), sum(weights)\n",
        "\n",
        "        while left < right:\n",
        "            mid = (left + right) // 2\n",
        "            if self.can_ship(weights, days, mid):\n",
        "                right = mid\n",
        "            else:\n",
        "                left = mid + 1\n",
        "\n",
        "        return left\n",
        "\n",
        "    def can_ship(self, weights, days, capacity):\n",
        "        day, remaining = 1, capacity\n",
        "        for weight in weights:\n",
        "            if weight > remaining:\n",
        "                day += 1\n",
        "                remaining = capacity\n",
        "                if day > days: return False\n",
        "            remaining -= weight\n",
        "        return True"
      ]
    },
    {
      "cell_type": "code",
      "source": [
        "from typing import List\n",
        "class Solution:\n",
        "    def repairCars(self, ranks: List[int], cars: int) -> int:\n",
        "        def can_repair_all(time):\n",
        "            total_cars_repaired = 0\n",
        "            for rank in ranks:\n",
        "                total_cars_repaired += int((time / rank) ** 0.5)\n",
        "                if total_cars_repaired >= cars:\n",
        "                    return True\n",
        "            return False\n",
        "\n",
        "        low = 1\n",
        "        high = max(ranks) * cars ** 2\n",
        "\n",
        "        while low < high:\n",
        "            mid = (low + high) // 2\n",
        "            if can_repair_all(mid):\n",
        "                high = mid\n",
        "            else:\n",
        "                low = mid + 1\n",
        "        return low"
      ],
      "metadata": {
        "id": "czYgKy9tm58I"
      },
      "execution_count": 3,
      "outputs": []
    }
  ]
}