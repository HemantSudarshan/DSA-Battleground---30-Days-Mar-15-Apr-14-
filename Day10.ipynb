{
  "nbformat": 4,
  "nbformat_minor": 0,
  "metadata": {
    "colab": {
      "provenance": [],
      "authorship_tag": "ABX9TyNFs0uQjqCSXs/4X/jOrjFy",
      "include_colab_link": true
    },
    "kernelspec": {
      "name": "python3",
      "display_name": "Python 3"
    },
    "language_info": {
      "name": "python"
    }
  },
  "cells": [
    {
      "cell_type": "markdown",
      "metadata": {
        "id": "view-in-github",
        "colab_type": "text"
      },
      "source": [
        "<a href=\"https://colab.research.google.com/github/HemantSudarshan/DSA-Battleground---30-Days-Mar-15-Apr-14-/blob/main/Day10.ipynb\" target=\"_parent\"><img src=\"https://colab.research.google.com/assets/colab-badge.svg\" alt=\"Open In Colab\"/></a>"
      ]
    },
    {
      "cell_type": "code",
      "execution_count": 2,
      "metadata": {
        "id": "K9dDKDl5gyAq"
      },
      "outputs": [],
      "source": [
        "from typing import List\n",
        "class Solution:\n",
        "    def sequentialDigits(self, low: int, high: int) -> List[int]:\n",
        "        digits = \"123456789\"\n",
        "\n",
        "        l1 = len(str(low))\n",
        "        l2 = len(str(high))\n",
        "\n",
        "        res = []\n",
        "        for i in range(l1, l2+1):\n",
        "            for j in range(len(digits)):\n",
        "                currword = digits[j:j+i]\n",
        "                if len(currword) != i:\n",
        "                    continue\n",
        "                if int(currword)>=low and int(currword)<=high:\n",
        "                    res.append(int(currword))\n",
        "\n",
        "        return res\n",
        "\n",
        ""
      ]
    },
    {
      "cell_type": "code",
      "source": [
        "class Solution:\n",
        "    def checkSubarraySum(self, nums: List[int], k: int) -> bool:\n",
        "        rem = 0\n",
        "        cache = {0: -1}\n",
        "\n",
        "        for i in range(len(nums)):\n",
        "            rem += nums[i]\n",
        "            rem %= k\n",
        "            if rem not in cache:\n",
        "                cache[rem] = i\n",
        "            elif i - cache[rem] >= 2:\n",
        "                return True\n",
        "\n",
        "        return False"
      ],
      "metadata": {
        "id": "AFEJmLGEg0uM"
      },
      "execution_count": 3,
      "outputs": []
    }
  ]
}