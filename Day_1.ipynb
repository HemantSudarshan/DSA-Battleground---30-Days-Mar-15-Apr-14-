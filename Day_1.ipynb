{
  "cells": [
    {
      "cell_type": "markdown",
      "metadata": {
        "id": "view-in-github",
        "colab_type": "text"
      },
      "source": [
        "<a href=\"https://colab.research.google.com/github/HemantSudarshan/DSA-Battleground---30-Days-Mar-15-Apr-14-/blob/main/Day_1.ipynb\" target=\"_parent\"><img src=\"https://colab.research.google.com/assets/colab-badge.svg\" alt=\"Open In Colab\"/></a>"
      ]
    },
    {
      "cell_type": "code",
      "source": [
        "def sbt(lst): return sorted(lst, key=sum)\n",
        "\n",
        "n = int(input(\"Enter number of tuples: \"))\n",
        "lst = [tuple(map(int, input(f\"Enter 2 integers for tuple {i+1} (space-separated): \").split())) for i in range(n)]\n",
        "\n",
        "\n",
        "print(\"Sorted list:\", sbt(lst))"
      ],
      "metadata": {
        "id": "aZZkpZElqT2n",
        "outputId": "1ce07a09-df89-4f6f-b759-150ae4a0e0ef",
        "colab": {
          "base_uri": "https://localhost:8080/"
        }
      },
      "execution_count": null,
      "outputs": [
        {
          "output_type": "stream",
          "name": "stdout",
          "text": [
            "Enter number of tuples: 3\n",
            "Enter 2 integers for tuple 1 (space-separated): 3 1\n",
            "Enter 2 integers for tuple 2 (space-separated): 2 2\n",
            "Enter 2 integers for tuple 3 (space-separated): 5 -1\n",
            "Sorted list: [(3, 1), (2, 2), (5, -1)]\n"
          ]
        }
      ]
    },
    {
      "cell_type": "code",
      "source": [
        "def sbt(lst): return sorted(lst, key=sum)\n",
        "\n",
        "n = int(input(\"Enter number of tuples: \"))\n",
        "lst = [tuple(map(int, input(f\"Enter 2 integers for tuple {i+1} (space-separated): \").split())) for i in range(n)]\n",
        "\n",
        "\n",
        "print(\"Sorted list:\", sbt(lst))"
      ],
      "metadata": {
        "id": "wk-xWqPdr3xX",
        "outputId": "87da2145-1747-42a4-fbdd-560373132dfe",
        "colab": {
          "base_uri": "https://localhost:8080/"
        }
      },
      "execution_count": null,
      "outputs": [
        {
          "output_type": "stream",
          "name": "stdout",
          "text": [
            "Enter number of tuples: 4\n",
            "Enter 2 integers for tuple 1 (space-separated): 3 1\n",
            "Enter 2 integers for tuple 2 (space-separated): 2 2 \n",
            "Enter 2 integers for tuple 3 (space-separated): 5 -1\n",
            "Enter 2 integers for tuple 4 (space-separated): 0 0\n",
            "Sorted list: [(0, 0), (3, 1), (2, 2), (5, -1)]\n"
          ]
        }
      ]
    },
    {
      "cell_type": "markdown",
      "source": [
        "Question 2: Filter Strings Based on Criteria"
      ],
      "metadata": {
        "id": "wQ_tkhWfpJOf"
      }
    },
    {
      "cell_type": "code",
      "source": [
        "def fs(lst, k, m):\n",
        "    vowels = 'aeiou'\n",
        "    return [s for s in lst if len(s) >= k and sum(c in vowels for c in s.lower()) >= m]\n",
        "\n",
        "\n",
        "if __name__ == \"__main__\":\n",
        "    lst = input(\"Enter words (space-separated): \").split()\n",
        "    k = int(input(\"Min length: \"))\n",
        "    m = int(input(\"Min vowels: \"))\n",
        "\n",
        "    result = fs(lst, k, m)\n",
        "    print(\"Result:\", result)\n",
        "\n",
        "\n",
        "    print(\"\\nTests:\")\n",
        "    print(fs([\"apple\", \"hi\", \"world\", \"yes\", \"python\"], 4, 2))\n",
        "    print(fs([\"education\", \"science\", \"art\", \"mathematics\"], 5, 3))"
      ],
      "metadata": {
        "colab": {
          "base_uri": "https://localhost:8080/"
        },
        "id": "bmqcmGbWn1lD",
        "outputId": "68a9c1b0-f74e-450b-c388-df241a5fd4be"
      },
      "execution_count": null,
      "outputs": [
        {
          "output_type": "stream",
          "name": "stdout",
          "text": [
            "Enter words (space-separated): education science art mathematics\n",
            "Min length:  5\n",
            "Min vowels: 3\n",
            "Result: ['education', 'science', 'mathematics']\n",
            "\n",
            "Tests:\n",
            "['apple']\n",
            "['education', 'science', 'mathematics']\n"
          ]
        }
      ]
    },
    {
      "cell_type": "code",
      "source": [
        "def fs(lst, k, m):\n",
        "    vowels = 'aeiou'\n",
        "    return [s for s in lst if len(s) >= k and sum(c in vowels for c in s.lower()) >= m]\n",
        "\n",
        "\n",
        "if __name__ == \"__main__\":\n",
        "    lst = input(\"Enter words (space-separated): \").split()\n",
        "    k = int(input(\"Min length: \"))\n",
        "    m = int(input(\"Min vowels: \"))\n",
        "\n",
        "    result = fs(lst, k, m)\n",
        "    print(\"Result:\", result)\n",
        "\n",
        "\n",
        "    print(\"\\nTests:\")\n",
        "    print(fs([\"apple\", \"hi\", \"world\", \"yes\", \"python\"], 4, 2))\n",
        "    print(fs([\"education\", \"science\", \"art\", \"mathematics\"], 5, 3))"
      ],
      "metadata": {
        "colab": {
          "base_uri": "https://localhost:8080/"
        },
        "id": "Ydw0zxY4oiql",
        "outputId": "90abfda3-1a33-47f9-bf22-785104ed0336"
      },
      "execution_count": null,
      "outputs": [
        {
          "output_type": "stream",
          "name": "stdout",
          "text": [
            "Enter words (space-separated): apple hi world\n",
            "Min length: 4\n",
            "Min vowels: 2\n",
            "Result: ['apple']\n",
            "\n",
            "Tests:\n",
            "['apple']\n",
            "['education', 'science', 'mathematics']\n"
          ]
        }
      ]
    },
    {
      "cell_type": "markdown",
      "source": [],
      "metadata": {
        "id": "sKvvrzZ2pUt2"
      }
    },
    {
      "cell_type": "code",
      "source": [
        "def fs(lst, k, m):\n",
        "    vowels = 'aeiou'\n",
        "    return [s for s in lst if len(s) >= k and sum(c in vowels for c in s.lower()) >= m]\n",
        "\n",
        "\n",
        "if __name__ == \"__main__\":\n",
        "    lst = input(\"Enter words (space-separated): \").split()\n",
        "    k = int(input(\"Min length: \"))\n",
        "    m = int(input(\"Min vowels: \"))\n",
        "\n",
        "    result = fs(lst, k, m)\n",
        "    print(\"Result:\", result)\n",
        "\n",
        "\n",
        "    print(\"\\nTests:\")\n",
        "    print(fs([\"apple\", \"hi\", \"world\", \"yes\", \"python\"], 4, 2))\n",
        "    print(fs([\"education\", \"science\", \"art\", \"mathematics\"], 5, 3))"
      ],
      "metadata": {
        "colab": {
          "base_uri": "https://localhost:8080/"
        },
        "id": "pzkR7JgPpVGw",
        "outputId": "bcaed530-ba2a-486e-8977-266a27ab90c7"
      },
      "execution_count": null,
      "outputs": [
        {
          "output_type": "stream",
          "name": "stdout",
          "text": [
            "Enter words (space-separated): apple hi world yes python\n",
            "Min length: 4\n",
            "Min vowels: 2\n",
            "Result: ['apple']\n",
            "\n",
            "Tests:\n",
            "['apple']\n",
            "['education', 'science', 'mathematics']\n"
          ]
        }
      ]
    }
  ],
  "metadata": {
    "colab": {
      "provenance": [],
      "include_colab_link": true
    },
    "kernelspec": {
      "display_name": "Python 3",
      "name": "python3"
    }
  },
  "nbformat": 4,
  "nbformat_minor": 0
}