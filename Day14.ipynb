{
  "nbformat": 4,
  "nbformat_minor": 0,
  "metadata": {
    "colab": {
      "provenance": [],
      "authorship_tag": "ABX9TyMA11EKKgy1dPCjnQQxluYq",
      "include_colab_link": true
    },
    "kernelspec": {
      "name": "python3",
      "display_name": "Python 3"
    },
    "language_info": {
      "name": "python"
    }
  },
  "cells": [
    {
      "cell_type": "markdown",
      "metadata": {
        "id": "view-in-github",
        "colab_type": "text"
      },
      "source": [
        "<a href=\"https://colab.research.google.com/github/HemantSudarshan/DSA-Battleground---30-Days-Mar-15-Apr-14-/blob/main/Day14.ipynb\" target=\"_parent\"><img src=\"https://colab.research.google.com/assets/colab-badge.svg\" alt=\"Open In Colab\"/></a>"
      ]
    },
    {
      "cell_type": "code",
      "execution_count": 1,
      "metadata": {
        "colab": {
          "base_uri": "https://localhost:8080/"
        },
        "id": "1aI7N5gJ4E_R",
        "outputId": "d8130ed8-f217-4208-c216-8b5daa9f23af"
      },
      "outputs": [
        {
          "output_type": "stream",
          "name": "stdout",
          "text": [
            "['jobD', 'jobB', 'jobA', 'jobC']\n"
          ]
        }
      ],
      "source": [
        "def schedule_jobs(jobs):\n",
        "    done = []\n",
        "    job_lookup = {j[\"name\"]: j for j in jobs}\n",
        "\n",
        "    while True:\n",
        "        ready = [j for j in jobs if j[\"name\"] not in done and all(d in done or d not in job_lookup for d in j[\"depends_on\"])]\n",
        "        if not ready:\n",
        "            break\n",
        "        next_up = max(ready, key=lambda x: x[\"priority\"])\n",
        "        done.append(next_up[\"name\"])\n",
        "\n",
        "    return done\n",
        "\n",
        "jobs = [{\"name\": \"jobA\", \"priority\": 4, \"depends_on\": [\"jobB\"]}, {\"name\": \"jobB\", \"priority\": 5, \"depends_on\": []}, {\"name\": \"jobC\", \"priority\": 3, \"depends_on\": [\"jobB\", \"jobA\"]}, {\"name\": \"jobD\", \"priority\": 6, \"depends_on\": [\"jobX\"]}]\n",
        "print(schedule_jobs(jobs))"
      ]
    },
    {
      "cell_type": "code",
      "source": [
        "def find_consistent_customers(surveys):\n",
        "    consistent = []\n",
        "    for person in surveys:\n",
        "        ratings = person['responses'].values()\n",
        "        if len(ratings) >= 3 and all(r == list(ratings)[0] for r in ratings):\n",
        "            consistent.append(person['name'])\n",
        "    return consistent\n",
        "\n",
        "surveys = [\n",
        "    {'name': 'Amit', 'responses': {'Q1': 5, 'Q2': 5, 'Q3': 5}},\n",
        "    {'name': 'Priya', 'responses': {'Q1': 4, 'Q2': 4, 'Q3': 5}},\n",
        "    {'name': 'Sahil', 'responses': {'Q1': 3, 'Q2': 3, 'Q3': 3, 'Q4': 3}},\n",
        "    {'name': 'Riya', 'responses': {'Q1': 1, 'Q2': 2}},\n",
        "    {'name': 'Karan', 'responses': {'Q1': 5, 'Q2': 5, 'Q3': 5, 'Q4': 4}}\n",
        "]\n",
        "print(find_consistent_customers(surveys))"
      ],
      "metadata": {
        "colab": {
          "base_uri": "https://localhost:8080/"
        },
        "id": "Y7Zqle5R4Vri",
        "outputId": "13a6563a-7e67-490d-9140-69bfa20368cf"
      },
      "execution_count": 2,
      "outputs": [
        {
          "output_type": "stream",
          "name": "stdout",
          "text": [
            "['Amit', 'Sahil']\n"
          ]
        }
      ]
    }
  ]
}