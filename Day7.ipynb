{
  "cells": [
    {
      "cell_type": "markdown",
      "metadata": {
        "id": "view-in-github",
        "colab_type": "text"
      },
      "source": [
        "<a href=\"https://colab.research.google.com/github/HemantSudarshan/DSA-Battleground---30-Days-Mar-15-Apr-14-/blob/main/Day7.ipynb\" target=\"_parent\"><img src=\"https://colab.research.google.com/assets/colab-badge.svg\" alt=\"Open In Colab\"/></a>"
      ]
    },
    {
      "cell_type": "code",
      "source": [
        "from typing import List\n",
        "class Solution:\n",
        "    def maximumGap(self, nums: List[int]) -> int:\n",
        "        if len(nums) < 2:\n",
        "            return 0\n",
        "        nums.sort()\n",
        "        return max([i[1]-i[0] for i in zip(nums, nums[1:])])"
      ],
      "metadata": {
        "id": "8Sf-vZl_RMUj"
      },
      "execution_count": 2,
      "outputs": []
    },
    {
      "cell_type": "code",
      "source": [
        "class Solution:\n",
        "    def triangleNumber(self, nums: List[int]) -> int:\n",
        "        nums.sort()\n",
        "        c=0\n",
        "        n=len(nums)\n",
        "        for i in range(2,n):\n",
        "            a,j=0,i-1\n",
        "            while a<j:\n",
        "\n",
        "                if nums[a]+nums[j]>nums[i]:\n",
        "                    c+=j-a\n",
        "                    j-=1\n",
        "                else:\n",
        "                    a+=1\n",
        "        return c"
      ],
      "metadata": {
        "id": "iqhzNK2MRRIk"
      },
      "execution_count": 3,
      "outputs": []
    }
  ],
  "metadata": {
    "colab": {
      "name": "Welcome To Colab",
      "toc_visible": true,
      "provenance": [],
      "include_colab_link": true
    },
    "kernelspec": {
      "display_name": "Python 3",
      "name": "python3"
    }
  },
  "nbformat": 4,
  "nbformat_minor": 0
}