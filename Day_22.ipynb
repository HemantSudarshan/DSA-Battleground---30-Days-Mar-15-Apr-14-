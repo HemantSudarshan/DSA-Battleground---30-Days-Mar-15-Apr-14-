{
  "nbformat": 4,
  "nbformat_minor": 0,
  "metadata": {
    "colab": {
      "provenance": [],
      "authorship_tag": "ABX9TyMWfyq3BwrH1DkL9P0B521W",
      "include_colab_link": true
    },
    "kernelspec": {
      "name": "python3",
      "display_name": "Python 3"
    },
    "language_info": {
      "name": "python"
    }
  },
  "cells": [
    {
      "cell_type": "markdown",
      "metadata": {
        "id": "view-in-github",
        "colab_type": "text"
      },
      "source": [
        "<a href=\"https://colab.research.google.com/github/HemantSudarshan/DSA-Battleground---30-Days-Mar-15-Apr-14-/blob/main/Day_22.ipynb\" target=\"_parent\"><img src=\"https://colab.research.google.com/assets/colab-badge.svg\" alt=\"Open In Colab\"/></a>"
      ]
    },
    {
      "cell_type": "code",
      "execution_count": 2,
      "metadata": {
        "id": "_PHXhoWaa1up"
      },
      "outputs": [],
      "source": [
        "from typing import List\n",
        "class Solution:\n",
        "    def findLongestWord(self, s: str, dictionary: List[str]) -> str:\n",
        "        res = []\n",
        "\n",
        "        for word in dictionary:\n",
        "            i, j = 0, 0\n",
        "\n",
        "            while i < len(s) and j < len(word):\n",
        "                if s[i] == word[j]:\n",
        "                    j += 1\n",
        "                i += 1\n",
        "            if j == len(word):\n",
        "                res.append(word)\n",
        "        res.sort()\n",
        "\n",
        "        if not res:\n",
        "            return \"\"\n",
        "        m = res[0]\n",
        "        for w in res:\n",
        "            if len(w) > len(m):\n",
        "                m = w\n",
        "        return m"
      ]
    },
    {
      "cell_type": "code",
      "source": [
        "class Solution:\n",
        "    def canJump(self, nums: List[int]) -> bool:\n",
        "        goal = len(nums)-1\n",
        "        for i in range(len(nums)-2, -1, -1):\n",
        "            if i + nums[i] >= goal:\n",
        "                goal = i\n",
        "\n",
        "\n",
        "        return goal == 0"
      ],
      "metadata": {
        "id": "Sr5h7IDnbZJM"
      },
      "execution_count": 3,
      "outputs": []
    }
  ]
}