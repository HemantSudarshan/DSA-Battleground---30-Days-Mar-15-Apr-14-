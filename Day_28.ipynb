{
  "nbformat": 4,
  "nbformat_minor": 0,
  "metadata": {
    "colab": {
      "provenance": [],
      "authorship_tag": "ABX9TyMk5JR1XGvdGw1C4QEZIXTE",
      "include_colab_link": true
    },
    "kernelspec": {
      "name": "python3",
      "display_name": "Python 3"
    },
    "language_info": {
      "name": "python"
    }
  },
  "cells": [
    {
      "cell_type": "markdown",
      "metadata": {
        "id": "view-in-github",
        "colab_type": "text"
      },
      "source": [
        "<a href=\"https://colab.research.google.com/github/HemantSudarshan/DSA-Battleground---30-Days-Mar-15-Apr-14-/blob/main/Day_28.ipynb\" target=\"_parent\"><img src=\"https://colab.research.google.com/assets/colab-badge.svg\" alt=\"Open In Colab\"/></a>"
      ]
    },
    {
      "cell_type": "code",
      "execution_count": 3,
      "metadata": {
        "id": "71DbNfC41rRo"
      },
      "outputs": [],
      "source": [
        "from typing import List\n",
        "class Solution:\n",
        "    def canCompleteCircuit(self, gas: List[int], cost: List[int]) -> int:\n",
        "        if sum(gas)<sum(cost):\n",
        "            return -1\n",
        "        total=0\n",
        "        start=0\n",
        "        for i in range(len(gas)):\n",
        "            total+=(gas[i]-cost[i])\n",
        "            if total<0:\n",
        "                total=0\n",
        "                start=i+1\n",
        "        return start"
      ]
    },
    {
      "cell_type": "code",
      "source": [
        "class Solution:\n",
        "    def removeKdigits(self, num: str, k: int) -> str:\n",
        "\n",
        "\n",
        "        stack = []\n",
        "        for d in num:\n",
        "            while stack and k > 0 and d < stack[-1]:\n",
        "                stack.pop()\n",
        "                k -= 1\n",
        "\n",
        "            stack.append(d)\n",
        "\n",
        "        while k > 0:\n",
        "            stack.pop()\n",
        "            k -= 1\n",
        "\n",
        "        return  \"\".join(stack).lstrip(\"0\") or \"0\""
      ],
      "metadata": {
        "id": "73_FSHLs15lo"
      },
      "execution_count": 4,
      "outputs": []
    }
  ]
}