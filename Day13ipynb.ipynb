{
  "nbformat": 4,
  "nbformat_minor": 0,
  "metadata": {
    "colab": {
      "provenance": [],
      "authorship_tag": "ABX9TyOGzt7EAhaOqew0q8NBoSTl",
      "include_colab_link": true
    },
    "kernelspec": {
      "name": "python3",
      "display_name": "Python 3"
    },
    "language_info": {
      "name": "python"
    }
  },
  "cells": [
    {
      "cell_type": "markdown",
      "metadata": {
        "id": "view-in-github",
        "colab_type": "text"
      },
      "source": [
        "<a href=\"https://colab.research.google.com/github/HemantSudarshan/DSA-Battleground---30-Days-Mar-15-Apr-14-/blob/main/Day12ipynb.ipynb\" target=\"_parent\"><img src=\"https://colab.research.google.com/assets/colab-badge.svg\" alt=\"Open In Colab\"/></a>"
      ]
    },
    {
      "cell_type": "code",
      "execution_count": 2,
      "metadata": {
        "colab": {
          "base_uri": "https://localhost:8080/"
        },
        "id": "tRrkmwi121kJ",
        "outputId": "85ac22a9-f041-473e-f9ac-c0b8e786ddd0"
      },
      "outputs": [
        {
          "output_type": "stream",
          "name": "stdout",
          "text": [
            "{'Amit': 530, 'Ravi': 538}\n"
          ]
        }
      ],
      "source": [
        "\n",
        "students = [\n",
        "    {'name': 'Amit', 'semesters': [{'Math': 88, 'Science': 91, 'English': 85}, {'Math': 90, 'Science': 92, 'English': 84}]},\n",
        "    {'name': 'Pooja', 'semesters': [{'Math': 79, 'Science': 95, 'English': 88}, {'Math': 82, 'Science': 81, 'English': 85}]},\n",
        "    {'name': 'Ravi', 'semesters': [{'Math': 87, 'Science': 88, 'English': 89}, {'Math': 91, 'Science': 90, 'English': 93}]}\n",
        "]\n",
        "\n",
        "\n",
        "studenttotals = {}\n",
        "for student in students:\n",
        "\n",
        "    student_passes = True\n",
        "    for semester in student['semesters']:\n",
        "\n",
        "        for subject_score in semester.values():\n",
        "            if subject_score <= 80:\n",
        "                student_passes = False\n",
        "                break\n",
        "        if not student_passes:\n",
        "            break\n",
        "\n",
        "\n",
        "    if student_passes:\n",
        "        total = 0\n",
        "        for semester in student['semesters']:\n",
        "            total += sum(semester.values())\n",
        "        studenttotals[student['name']] = total\n",
        "\n",
        "print(studenttotals)"
      ]
    },
    {
      "cell_type": "code",
      "source": [
        "cities = [{'name': 'Mumbai', 'areas': {'Andheri': [32, 33, 31, 30, 29, 34, 35], 'Bandra': [31, 32, 30, 30, 31, 33, 34]}}, {'name': 'Delhi', 'areas': {'Rohini': [28, 29, 27, 30, 31, 32, 29], 'Saket': [33, 35, 36, 34, 33, 32, 31]}}, {'name': 'Chennai', 'areas': {'T Nagar': [34, 35, 36, 37, 34, 35, 33], 'Velachery': [32, 31, 33, 34, 32, 30, 31]}}]\n",
        "\n",
        "hot_cities = [c['name'] for c in cities if all(sum(t)/len(t) > 30 for t in c['areas'].values())]\n",
        "\n",
        "print(hot_cities)"
      ],
      "metadata": {
        "colab": {
          "base_uri": "https://localhost:8080/"
        },
        "id": "2jW4vLXo3CJV",
        "outputId": "53b5bbcf-3908-4a97-9a14-aaaa2c31cbe2"
      },
      "execution_count": 3,
      "outputs": [
        {
          "output_type": "stream",
          "name": "stdout",
          "text": [
            "['Mumbai', 'Chennai']\n"
          ]
        }
      ]
    }
  ]
}
