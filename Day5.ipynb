{
  "cells": [
    {
      "cell_type": "markdown",
      "metadata": {
        "id": "view-in-github",
        "colab_type": "text"
      },
      "source": [
        "<a href=\"https://colab.research.google.com/github/HemantSudarshan/DSA-Battleground---30-Days-Mar-15-Apr-14-/blob/main/Day5.ipynb\" target=\"_parent\"><img src=\"https://colab.research.google.com/assets/colab-badge.svg\" alt=\"Open In Colab\"/></a>"
      ]
    },
    {
      "cell_type": "code",
      "source": [
        "from typing import List\n",
        "from functools import cmp_to_key\n",
        "\n",
        "class Solution:\n",
        "    def largestNumber(self, nums: List[int]) -> str:\n",
        "        def compare(n1, n2):\n",
        "            if n1 + n2 < n2 + n1:\n",
        "                return 1\n",
        "            else:\n",
        "                return -1\n",
        "\n",
        "        nums = [str(num) for num in nums]\n",
        "        nums.sort(key=cmp_to_key(compare))\n",
        "        return '0' if nums[0] == '0' else ''.join(nums)"
      ],
      "metadata": {
        "id": "cVlLsuLmnWk7"
      },
      "execution_count": 5,
      "outputs": []
    },
    {
      "cell_type": "code",
      "source": [
        "class Solution:\n",
        "    def findPeakElement(self, nums: List[int]) -> int:\n",
        "     low = 0\n",
        "     n = len(nums)\n",
        "     high = n-1\n",
        "     while(low <= high):\n",
        "        mid = low + (high - low)//2\n",
        "        if((mid == 0 or nums[mid]>nums[mid-1]) and (mid == n-1 or nums[mid]>nums[mid+1])):\n",
        "            return mid\n",
        "        elif(mid > 0 and nums[mid] < nums[mid-1]):\n",
        "            high = mid - 1\n",
        "        else:\n",
        "            low = mid + 1\n",
        "\n",
        "     return -1"
      ],
      "metadata": {
        "id": "6xZtb8finZVU"
      },
      "execution_count": 6,
      "outputs": []
    }
  ],
  "metadata": {
    "colab": {
      "name": "Welcome To Colab",
      "toc_visible": true,
      "provenance": [],
      "include_colab_link": true
    },
    "kernelspec": {
      "display_name": "Python 3",
      "name": "python3"
    }
  },
  "nbformat": 4,
  "nbformat_minor": 0
}