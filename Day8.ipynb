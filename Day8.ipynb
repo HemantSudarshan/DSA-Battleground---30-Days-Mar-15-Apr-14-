{
  "cells": [
    {
      "cell_type": "markdown",
      "metadata": {
        "id": "view-in-github",
        "colab_type": "text"
      },
      "source": [
        "<a href=\"https://colab.research.google.com/github/HemantSudarshan/DSA-Battleground---30-Days-Mar-15-Apr-14-/blob/main/Day8.ipynb\" target=\"_parent\"><img src=\"https://colab.research.google.com/assets/colab-badge.svg\" alt=\"Open In Colab\"/></a>"
      ]
    },
    {
      "cell_type": "code",
      "source": [
        "from typing import List\n",
        "class Solution:\n",
        "    def coinChange(self, coins: List[int], amount: int) -> int:\n",
        "\n",
        "        dp = [amount+1] * (amount+1)\n",
        "        dp[0] = 0\n",
        "\n",
        "        for i in range(1, amount+1):\n",
        "            for c in coins:\n",
        "                if (i-c) >= 0:\n",
        "                    dp[i] = min(dp[i], 1 + dp[i-c])\n",
        "\n",
        "        return dp[amount] if (dp[amount] != amount + 1) else -1"
      ],
      "metadata": {
        "id": "C3tHnmdLH_vu"
      },
      "execution_count": 2,
      "outputs": []
    },
    {
      "cell_type": "code",
      "source": [
        "import atexit\n",
        "import gc\n",
        "from typing import List\n",
        "atexit.register(lambda: open(\"display_runtime.txt\", \"w\").write(\"0\"))\n",
        "gc.collect()\n",
        "class Solution:\n",
        "    def canJump(self, nums: List[int]) -> bool:\n",
        "        i=0\n",
        "        k=nums[i]\n",
        "        i+=1\n",
        "        while k and i<len(nums):\n",
        "            k-=1\n",
        "            if nums[i]>k:\n",
        "                k=nums[i]\n",
        "            i+=1\n",
        "        return True if i==len(nums) else False"
      ],
      "metadata": {
        "id": "Lx5twRmBIK52"
      },
      "execution_count": 3,
      "outputs": []
    }
  ],
  "metadata": {
    "colab": {
      "name": "Welcome To Colab",
      "toc_visible": true,
      "provenance": [],
      "include_colab_link": true
    },
    "kernelspec": {
      "display_name": "Python 3",
      "name": "python3"
    }
  },
  "nbformat": 4,
  "nbformat_minor": 0
}