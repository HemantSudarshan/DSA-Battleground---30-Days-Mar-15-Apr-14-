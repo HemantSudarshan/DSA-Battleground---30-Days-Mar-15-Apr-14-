{
  "nbformat": 4,
  "nbformat_minor": 0,
  "metadata": {
    "colab": {
      "provenance": [],
      "authorship_tag": "ABX9TyM14fTQqvR1bZdQS4Pbac2M",
      "include_colab_link": true
    },
    "kernelspec": {
      "name": "python3",
      "display_name": "Python 3"
    },
    "language_info": {
      "name": "python"
    }
  },
  "cells": [
    {
      "cell_type": "markdown",
      "metadata": {
        "id": "view-in-github",
        "colab_type": "text"
      },
      "source": [
        "<a href=\"https://colab.research.google.com/github/HemantSudarshan/DSA-Battleground---30-Days-Mar-15-Apr-14-/blob/main/Day_30.ipynb\" target=\"_parent\"><img src=\"https://colab.research.google.com/assets/colab-badge.svg\" alt=\"Open In Colab\"/></a>"
      ]
    },
    {
      "cell_type": "code",
      "source": [
        "class Solution:\n",
        "    def maximumSwap(self, num: int) -> int:\n",
        "        if not num: return 0\n",
        "        digits = list(str(num))\n",
        "        num_to_idx = {}\n",
        "        for idx, num in enumerate(digits):\n",
        "            num_to_idx[int(num)] = idx\n",
        "\n",
        "        for i in range(len(digits)):\n",
        "            curr_n = int(digits[i])\n",
        "            for swap_n in range(9, curr_n, -1):\n",
        "                if swap_n in num_to_idx and num_to_idx[swap_n] > i:\n",
        "                    swap_idx = num_to_idx[swap_n]\n",
        "                    digits[i], digits[swap_idx] = digits[swap_idx], digits[i]\n",
        "                    return int(\"\".join(digits))\n",
        "        return int(\"\".join(digits))\n"
      ],
      "metadata": {
        "id": "em085LvbS1ZA"
      },
      "execution_count": 2,
      "outputs": []
    },
    {
      "cell_type": "code",
      "source": [
        "from typing import List\n",
        "class Solution:\n",
        "    def numRescueBoats(self, people: List[int], limit: int) -> int:\n",
        "        people = sorted(people)\n",
        "        num_of_people = len(people)\n",
        "        ans = 0\n",
        "        l = 0\n",
        "        r = num_of_people -1\n",
        "\n",
        "        while l<=r:\n",
        "            if people[l] + people[r] <= limit:  ## because each boat can carry atmost 2 people.\n",
        "                l += 1  ## we have added the left person in the boat with current right person\n",
        "            ans += 1    ## increment the number of boat required\n",
        "            r -= 1      ## move the right pointer towards left, as we need to a person with lesser weight.\n",
        "\n",
        "        return ans\n"
      ],
      "metadata": {
        "id": "U07Cq7mOS2vg"
      },
      "execution_count": 3,
      "outputs": []
    }
  ]
}