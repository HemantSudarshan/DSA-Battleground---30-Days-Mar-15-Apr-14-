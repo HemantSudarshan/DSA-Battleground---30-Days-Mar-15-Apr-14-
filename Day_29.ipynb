{
  "nbformat": 4,
  "nbformat_minor": 0,
  "metadata": {
    "colab": {
      "provenance": [],
      "authorship_tag": "ABX9TyPw2BG4Wm6g9i2hRI35sJwd",
      "include_colab_link": true
    },
    "kernelspec": {
      "name": "python3",
      "display_name": "Python 3"
    },
    "language_info": {
      "name": "python"
    }
  },
  "cells": [
    {
      "cell_type": "markdown",
      "metadata": {
        "id": "view-in-github",
        "colab_type": "text"
      },
      "source": [
        "<a href=\"https://colab.research.google.com/github/HemantSudarshan/DSA-Battleground---30-Days-Mar-15-Apr-14-/blob/main/Day_29.ipynb\" target=\"_parent\"><img src=\"https://colab.research.google.com/assets/colab-badge.svg\" alt=\"Open In Colab\"/></a>"
      ]
    },
    {
      "cell_type": "code",
      "execution_count": 2,
      "metadata": {
        "id": "814hkZpdg3iz"
      },
      "outputs": [],
      "source": [
        "from typing import List\n",
        "class Solution:\n",
        "    def numIslands(self, grid: List[List[str]]) -> int:\n",
        "        if not grid:\n",
        "            return 0\n",
        "\n",
        "        rows, cols = len(grid), len(grid[0])\n",
        "        island_count = 0\n",
        "\n",
        "        def dfs(r, c):\n",
        "            # Check boundaries and if current cell is land\n",
        "            if (r < 0 or c < 0 or r >= rows or c >= cols or grid[r][c] == '0'):\n",
        "                return\n",
        "\n",
        "            # Mark as visited by changing '1' to '0'\n",
        "            grid[r][c] = '0'\n",
        "\n",
        "            # Explore all 4 directions\n",
        "            dfs(r + 1, c)  # down\n",
        "            dfs(r - 1, c)  # up\n",
        "            dfs(r, c + 1)  # right\n",
        "            dfs(r, c - 1)  # left\n",
        "\n",
        "        # Traverse the grid\n",
        "        for r in range(rows):\n",
        "            for c in range(cols):\n",
        "                if grid[r][c] == '1':\n",
        "                    island_count += 1\n",
        "                    dfs(r, c)  # Mark all connected lands as visited\n",
        "\n",
        "        return island_count\n"
      ]
    },
    {
      "cell_type": "code",
      "source": [
        "class Solution:\n",
        "    def maxCoins(self, nums: List[int]) -> int:\n",
        "        # Add 1s at both ends\n",
        "        nums = [1] + nums + [1]\n",
        "        n = len(nums)\n",
        "\n",
        "        # Initialize dp table with zeros\n",
        "        dp = [[0] * n for _ in range(n)]\n",
        "\n",
        "        # Fill the dp table\n",
        "        for length in range(2, n):\n",
        "            for i in range(n - length):\n",
        "                j = i + length\n",
        "                for k in range(i + 1, j):\n",
        "                    # Calculate coins if k is the last balloon to burst\n",
        "                    coins = nums[i] * nums[k] * nums[j] + dp[i][k] + dp[k][j]\n",
        "                    dp[i][j] = max(dp[i][j], coins)\n",
        "\n",
        "        # Return the maximum coins for the entire array\n",
        "        return dp[0][n-1]\n"
      ],
      "metadata": {
        "id": "D73fIU_VhA1F"
      },
      "execution_count": 3,
      "outputs": []
    }
  ]
}