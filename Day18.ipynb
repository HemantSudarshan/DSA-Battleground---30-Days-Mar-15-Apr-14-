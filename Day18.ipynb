{
  "nbformat": 4,
  "nbformat_minor": 0,
  "metadata": {
    "colab": {
      "provenance": [],
      "authorship_tag": "ABX9TyMjwBvNWGh2JRuP1ue6BiEs",
      "include_colab_link": true
    },
    "kernelspec": {
      "name": "python3",
      "display_name": "Python 3"
    },
    "language_info": {
      "name": "python"
    }
  },
  "cells": [
    {
      "cell_type": "markdown",
      "metadata": {
        "id": "view-in-github",
        "colab_type": "text"
      },
      "source": [
        "<a href=\"https://colab.research.google.com/github/HemantSudarshan/DSA-Battleground---30-Days-Mar-15-Apr-14-/blob/main/Day18.ipynb\" target=\"_parent\"><img src=\"https://colab.research.google.com/assets/colab-badge.svg\" alt=\"Open In Colab\"/></a>"
      ]
    },
    {
      "cell_type": "code",
      "execution_count": 3,
      "metadata": {
        "id": "Y66PnnwrBf6c"
      },
      "outputs": [],
      "source": [
        "from typing import List\n",
        "class Solution:\n",
        "    def merge(self, intervals: List[List[int]]) -> List[List[int]]:\n",
        "        if not intervals:\n",
        "            return []\n",
        "\n",
        "        intervals.sort(key=lambda x:x[0])\n",
        "\n",
        "        merged = []\n",
        "        for interval in intervals:\n",
        "            if not merged or merged[-1][1] < interval[0]:\n",
        "                merged.append(interval)\n",
        "            else:\n",
        "                merged[-1][1] = max(merged[-1][1], interval[1])\n",
        "        return merged"
      ]
    },
    {
      "cell_type": "code",
      "source": [
        "class Solution:\n",
        "    def insert(self, intervals: List[List[int]], newInterval: List[int]) -> List[List[int]]:\n",
        "\n",
        "        intervals.append(newInterval)\n",
        "\n",
        "        intervals.sort(key=lambda x:x[0])\n",
        "\n",
        "        i=0\n",
        "\n",
        "        while i < len(intervals) - 1:\n",
        "\n",
        "            st, en =intervals[i]\n",
        "\n",
        "            nexst,nexen=intervals[i+1]\n",
        "\n",
        "            if en >= nexst:\n",
        "\n",
        "                intervals[i] = [st, max(en, nexen)]\n",
        "\n",
        "                intervals.pop(i + 1)\n",
        "\n",
        "            else:\n",
        "\n",
        "                i += 1\n",
        "\n",
        "\n",
        "        return intervals\n",
        "\n",
        "\n",
        "\n",
        "\n",
        ""
      ],
      "metadata": {
        "id": "h_g9EPudBxOU"
      },
      "execution_count": 5,
      "outputs": []
    }
  ]
}