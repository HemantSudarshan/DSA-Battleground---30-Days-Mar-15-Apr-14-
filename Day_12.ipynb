{
  "nbformat": 4,
  "nbformat_minor": 0,
  "metadata": {
    "colab": {
      "provenance": [],
      "authorship_tag": "ABX9TyN84srgZAKJthMaUlKXJLmL",
      "include_colab_link": true
    },
    "kernelspec": {
      "name": "python3",
      "display_name": "Python 3"
    },
    "language_info": {
      "name": "python"
    }
  },
  "cells": [
    {
      "cell_type": "markdown",
      "metadata": {
        "id": "view-in-github",
        "colab_type": "text"
      },
      "source": [
        "<a href=\"https://colab.research.google.com/github/HemantSudarshan/DSA-Battleground---30-Days-Mar-15-Apr-14-/blob/main/Day_12.ipynb\" target=\"_parent\"><img src=\"https://colab.research.google.com/assets/colab-badge.svg\" alt=\"Open In Colab\"/></a>"
      ]
    },
    {
      "cell_type": "code",
      "execution_count": 2,
      "metadata": {
        "colab": {
          "base_uri": "https://localhost:8080/"
        },
        "id": "d4DBmc1pfSBD",
        "outputId": "f1db0fd8-e684-438b-c36d-9595bd76a993"
      },
      "outputs": [
        {
          "output_type": "stream",
          "name": "stdout",
          "text": [
            "Input: [1, 0, 1, 1, 0] → Output: 4 (Expected: 4)\n",
            "Input: [1, 0, 1, 1, 0, 1] → Output: 4 (Expected: 4)\n",
            "Input: [1, 1, 1, 1] → Output: 4 (Expected: 4)\n",
            "Input: [0, 0, 0, 0] → Output: 1 (Expected: 1)\n",
            "Input: [0, 1, 0, 1, 0] → Output: 3 (Expected: 3)\n"
          ]
        }
      ],
      "source": [
        "def maxones(arr: list[int]) -> int:\n",
        "    start, longest, zeroes = 0, 0, 0\n",
        "\n",
        "    for end in range(len(arr)):\n",
        "        zeroes += arr[end] == 0\n",
        "\n",
        "        while zeroes > 1:\n",
        "            zeroes -= arr[start] == 0\n",
        "            start += 1\n",
        "\n",
        "        longest = max(longest, end - start + 1)\n",
        "\n",
        "    return longest\n",
        "\n",
        "\n",
        "# Test Cases\n",
        "cases = [\n",
        "    ([1, 0, 1, 1, 0], 4),\n",
        "    ([1, 0, 1, 1, 0, 1], 4),\n",
        "    ([1, 1, 1, 1], 4),\n",
        "    ([0, 0, 0, 0], 1),\n",
        "    ([0, 1, 0, 1, 0], 3),\n",
        "]\n",
        "\n",
        "for case, expected in cases:\n",
        "    print(f\"Input: {case} → Output: {maxones(case)} (Expected: {expected})\")\n"
      ]
    }
  ]
}