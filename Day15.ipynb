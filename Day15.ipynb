{
  "nbformat": 4,
  "nbformat_minor": 0,
  "metadata": {
    "colab": {
      "provenance": [],
      "authorship_tag": "ABX9TyMtRXe9+5c92ey+gqpknFf0",
      "include_colab_link": true
    },
    "kernelspec": {
      "name": "python3",
      "display_name": "Python 3"
    },
    "language_info": {
      "name": "python"
    }
  },
  "cells": [
    {
      "cell_type": "markdown",
      "metadata": {
        "id": "view-in-github",
        "colab_type": "text"
      },
      "source": [
        "<a href=\"https://colab.research.google.com/github/HemantSudarshan/DSA-Battleground---30-Days-Mar-15-Apr-14-/blob/main/Day15.ipynb\" target=\"_parent\"><img src=\"https://colab.research.google.com/assets/colab-badge.svg\" alt=\"Open In Colab\"/></a>"
      ]
    },
    {
      "cell_type": "code",
      "execution_count": 1,
      "metadata": {
        "id": "AB8AC9wnlCyy"
      },
      "outputs": [],
      "source": [
        "from collections import defaultdict\n",
        "\n",
        "class Solution:\n",
        "    def characterReplacement(self, s: str, k: int) -> int:\n",
        "        count: defaultdict[str, int] = defaultdict(int)\n",
        "        max_length: int = 0\n",
        "        max_count: int = 0\n",
        "        left: int = 0\n",
        "\n",
        "        for right in range(len(s)):\n",
        "            count[s[right]] += 1\n",
        "            max_count = max(max_count, count[s[right]])\n",
        "            while (right - left + 1) - max_count > k:\n",
        "                count[s[left]] -= 1\n",
        "                left += 1\n",
        "            max_length = max(max_length, right - left + 1)\n",
        "\n",
        "        return max_length"
      ]
    },
    {
      "cell_type": "code",
      "source": [
        "from typing import List\n",
        "\n",
        "class Solution:\n",
        "    def find_permutation(self, s: str) -> List[int]:\n",
        "        stack: List[int] = []\n",
        "        result: List[int] = []\n",
        "        for i in range(len(s) + 1):\n",
        "            stack.append(i + 1)\n",
        "            if i == len(s) or s[i] == 'I':\n",
        "                while stack:\n",
        "                    result.append(stack.pop())\n",
        "        return result"
      ],
      "metadata": {
        "id": "G7nw19VYl5Sb"
      },
      "execution_count": 2,
      "outputs": []
    }
  ]
}