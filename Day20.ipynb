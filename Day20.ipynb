{
  "nbformat": 4,
  "nbformat_minor": 0,
  "metadata": {
    "colab": {
      "provenance": [],
      "authorship_tag": "ABX9TyNMfMrWqTfxkC73j4Z6nBAJ",
      "include_colab_link": true
    },
    "kernelspec": {
      "name": "python3",
      "display_name": "Python 3"
    },
    "language_info": {
      "name": "python"
    }
  },
  "cells": [
    {
      "cell_type": "markdown",
      "metadata": {
        "id": "view-in-github",
        "colab_type": "text"
      },
      "source": [
        "<a href=\"https://colab.research.google.com/github/HemantSudarshan/DSA-Battleground---30-Days-Mar-15-Apr-14-/blob/main/Day20.ipynb\" target=\"_parent\"><img src=\"https://colab.research.google.com/assets/colab-badge.svg\" alt=\"Open In Colab\"/></a>"
      ]
    },
    {
      "cell_type": "code",
      "execution_count": 5,
      "metadata": {
        "id": "P2FYfzg4HDm8"
      },
      "outputs": [],
      "source": [
        "from typing import List\n",
        "class Solution:\n",
        "    def combinationSum3(self, k: int, n: int) -> List[List[int]]:\n",
        "        def backtrack(start, path, target):\n",
        "            if len(path) == k and target == 0:\n",
        "                result.append(path)\n",
        "                return\n",
        "            if target < 0 or len(path) > k:\n",
        "                return\n",
        "            for i in range(start, 10):\n",
        "                backtrack(i + 1, path + [i], target - i)\n",
        "\n",
        "        result = []\n",
        "        backtrack(1, [], n)\n",
        "        return result"
      ]
    },
    {
      "cell_type": "code",
      "source": [
        "class Solution:\n",
        "    def maxProduct(self, words: List[str]) -> int:\n",
        "        n = len(words)\n",
        "        masks = [0] * n\n",
        "        for i in range(n):\n",
        "            for c in words[i]:\n",
        "                masks[i] |= 1 << (ord(c) - ord('a'))\n",
        "\n",
        "        max_product = 0\n",
        "        for i in range(n):\n",
        "            for j in range(i + 1, n):\n",
        "                if not (masks[i] & masks[j]):\n",
        "                    max_product = max(max_product, len(words[i]) * len(words[j]))\n",
        "\n",
        "        return max_product"
      ],
      "metadata": {
        "id": "zeKGpF2jHI6U"
      },
      "execution_count": 6,
      "outputs": []
    }
  ]
}