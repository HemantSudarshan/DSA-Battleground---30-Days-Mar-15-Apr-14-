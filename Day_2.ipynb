{
  "cells": [
    {
      "cell_type": "markdown",
      "metadata": {
        "id": "view-in-github",
        "colab_type": "text"
      },
      "source": [
        "<a href=\"https://colab.research.google.com/github/HemantSudarshan/DSA-Battleground---30-Days-Mar-15-Apr-14-/blob/main/Day_2.ipynb\" target=\"_parent\"><img src=\"https://colab.research.google.com/assets/colab-badge.svg\" alt=\"Open In Colab\"/></a>"
      ]
    },
    {
      "cell_type": "markdown",
      "source": [
        "Question 3: Length of Last Word You're given a sentence (s) containing words and spaces. The goal is to determine the length of the last word in the sentence."
      ],
      "metadata": {
        "id": "CWoJupx27AlH"
      }
    },
    {
      "cell_type": "code",
      "source": [
        "\n",
        "us = input(\"Enter a sentence: \").strip()\n",
        "\n",
        "#\n",
        "re = len(us.split()[-1])\n",
        "\n",
        "print(f\"Length of last word: {re}\")"
      ],
      "metadata": {
        "id": "U4Qh4bL36UVB",
        "outputId": "56791586-4e09-4413-ab9f-db8ad64a64e9",
        "colab": {
          "base_uri": "https://localhost:8080/"
        }
      },
      "execution_count": null,
      "outputs": [
        {
          "output_type": "stream",
          "name": "stdout",
          "text": [
            "Enter a sentence: Learn Python\n",
            "Length of last word: 6\n"
          ]
        }
      ]
    },
    {
      "cell_type": "code",
      "source": [
        "\n",
        "us = input(\"Enter a sentence: \").strip()\n",
        "\n",
        "#\n",
        "re = len(us.split()[-1])\n",
        "\n",
        "print(f\"Length of last word: {re}\")"
      ],
      "metadata": {
        "id": "5ipVdnmL63Ou",
        "outputId": "2ff2afb2-c936-4c43-f706-9e087c259f40",
        "colab": {
          "base_uri": "https://localhost:8080/"
        }
      },
      "execution_count": null,
      "outputs": [
        {
          "output_type": "stream",
          "name": "stdout",
          "text": [
            "Enter a sentence: coding is fun\n",
            "Length of last word: 3\n"
          ]
        }
      ]
    },
    {
      "cell_type": "markdown",
      "source": [
        "Question 4: Find First and Last Position of Element in Sorted Array\n"
      ],
      "metadata": {
        "id": "5c_Z6djs7FNL"
      }
    },
    {
      "cell_type": "code",
      "source": [
        "\n",
        "numbers = list(map(int, input(\"Enter your numbers: \").split()))\n",
        "find_this = int(input(\"Number to find: \"))\n",
        "\n",
        "\n",
        "def findspots(number_list, target):\n",
        "    def lookforedge(find_start):\n",
        "        start, end = 0, len(number_list) - 1\n",
        "        spot = -1\n",
        "        while start <= end:\n",
        "            middle = (start + end) // 2\n",
        "            if number_list[middle] == target:\n",
        "                spot = middle\n",
        "                if find_start:\n",
        "                    end = middle - 1  #\n",
        "                else:\n",
        "                    start = middle + 1\n",
        "            elif number_list[middle] < target:\n",
        "                start = middle + 1\n",
        "            else:\n",
        "                end = middle - 1\n",
        "        return spot\n",
        "\n",
        "    return [lookforedge(True), lookforedge(False)]\n",
        "\n",
        "\n",
        "result = findspots(numbers, find_this)\n",
        "print(f\"Starts at: {result[0]}, Ends at: {result[1]}\")"
      ],
      "metadata": {
        "id": "6zesY3Dj7chn",
        "outputId": "0aa6f524-2cb0-4065-d9cb-ad33115ceff8",
        "colab": {
          "base_uri": "https://localhost:8080/"
        }
      },
      "execution_count": null,
      "outputs": [
        {
          "output_type": "stream",
          "name": "stdout",
          "text": [
            "Enter your numbers: 5 7 7 8 8 10\n",
            "Number to find: 8\n",
            "Starts at: 3, Ends at: 4\n"
          ]
        }
      ]
    },
    {
      "cell_type": "code",
      "source": [
        "\n",
        "numbers = list(map(int, input(\"Enter your numbers: \").split()))\n",
        "find_this = int(input(\"Number to find: \"))\n",
        "\n",
        "\n",
        "def findspots(number_list, target):\n",
        "    def lookforedge(find_start):\n",
        "        start, end = 0, len(number_list) - 1\n",
        "        spot = -1\n",
        "        while start <= end:\n",
        "            middle = (start + end) // 2\n",
        "            if number_list[middle] == target:\n",
        "                spot = middle\n",
        "                if find_start:\n",
        "                    end = middle - 1  #\n",
        "                else:\n",
        "                    start = middle + 1\n",
        "            elif number_list[middle] < target:\n",
        "                start = middle + 1\n",
        "            else:\n",
        "                end = middle - 1\n",
        "        return spot\n",
        "\n",
        "    return [lookforedge(True), lookforedge(False)]\n",
        "\n",
        "\n",
        "result = findspots(numbers, find_this)\n",
        "print(f\"Starts at: {result[0]}, Ends at: {result[1]}\")"
      ],
      "metadata": {
        "id": "tBNHVh_t8BTE",
        "outputId": "3411f509-28ab-4a42-bc1b-4ea247fbcb2c",
        "colab": {
          "base_uri": "https://localhost:8080/"
        }
      },
      "execution_count": null,
      "outputs": [
        {
          "output_type": "stream",
          "name": "stdout",
          "text": [
            "Enter your numbers: 5 7 7 8 8 10\n",
            "Number to find: 6\n",
            "Starts at: -1, Ends at: -1\n"
          ]
        }
      ]
    }
  ],
  "metadata": {
    "colab": {
      "toc_visible": true,
      "provenance": [],
      "include_colab_link": true
    },
    "kernelspec": {
      "display_name": "Python 3",
      "name": "python3"
    }
  },
  "nbformat": 4,
  "nbformat_minor": 0
}