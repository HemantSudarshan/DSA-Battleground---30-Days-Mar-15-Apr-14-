{
  "nbformat": 4,
  "nbformat_minor": 0,
  "metadata": {
    "colab": {
      "provenance": [],
      "authorship_tag": "ABX9TyPgyTOe9WiqDxj6zQwbMX82",
      "include_colab_link": true
    },
    "kernelspec": {
      "name": "python3",
      "display_name": "Python 3"
    },
    "language_info": {
      "name": "python"
    }
  },
  "cells": [
    {
      "cell_type": "markdown",
      "metadata": {
        "id": "view-in-github",
        "colab_type": "text"
      },
      "source": [
        "<a href=\"https://colab.research.google.com/github/HemantSudarshan/DSA-Battleground---30-Days-Mar-15-Apr-14-/blob/main/Day_21.ipynb\" target=\"_parent\"><img src=\"https://colab.research.google.com/assets/colab-badge.svg\" alt=\"Open In Colab\"/></a>"
      ]
    },
    {
      "cell_type": "code",
      "execution_count": 1,
      "metadata": {
        "id": "o0_bmkpma_kd"
      },
      "outputs": [],
      "source": [
        "class Solution:\n",
        "    def validPalindrome(self, s: str) -> bool:\n",
        "        i = 0\n",
        "        j = len(s) - 1\n",
        "        while i < j:\n",
        "            if s[i] != s[j]:\n",
        "                return self.checkPalindrome(s, i+1, j) or self.checkPalindrome(s, i, j-1)\n",
        "            i += 1\n",
        "            j -= 1\n",
        "        return True\n",
        "\n",
        "    def checkPalindrome(self, s, i, j):\n",
        "        while i < j:\n",
        "            if s[i] != s[j]:\n",
        "                return False\n",
        "            i += 1\n",
        "            j -= 1\n",
        "\n",
        "        return True"
      ]
    },
    {
      "cell_type": "code",
      "source": [
        "from typing import List\n",
        "class Solution:\n",
        "    def longestSubarray(self, nums: List[int]) -> int:\n",
        "        left = 0\n",
        "        zero_count = 0\n",
        "        max_len = 0\n",
        "\n",
        "        for right in range(len(nums)):\n",
        "            if nums[right] == 0:\n",
        "                zero_count += 1\n",
        "\n",
        "            while zero_count > 1:\n",
        "                if nums[left] == 0:\n",
        "                    zero_count -= 1\n",
        "                left += 1\n",
        "\n",
        "            max_len = max(max_len, right - left)\n",
        "\n",
        "        return max_len"
      ],
      "metadata": {
        "id": "y0x1GXodbAWc"
      },
      "execution_count": 4,
      "outputs": []
    }
  ]
}