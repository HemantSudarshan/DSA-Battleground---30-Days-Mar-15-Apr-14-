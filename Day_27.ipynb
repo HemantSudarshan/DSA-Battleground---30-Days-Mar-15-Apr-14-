{
  "nbformat": 4,
  "nbformat_minor": 0,
  "metadata": {
    "colab": {
      "provenance": [],
      "authorship_tag": "ABX9TyPMwLZKzEaO9YPmjcdN/CZD",
      "include_colab_link": true
    },
    "kernelspec": {
      "name": "python3",
      "display_name": "Python 3"
    },
    "language_info": {
      "name": "python"
    }
  },
  "cells": [
    {
      "cell_type": "markdown",
      "metadata": {
        "id": "view-in-github",
        "colab_type": "text"
      },
      "source": [
        "<a href=\"https://colab.research.google.com/github/HemantSudarshan/DSA-Battleground---30-Days-Mar-15-Apr-14-/blob/main/Day_27.ipynb\" target=\"_parent\"><img src=\"https://colab.research.google.com/assets/colab-badge.svg\" alt=\"Open In Colab\"/></a>"
      ]
    },
    {
      "cell_type": "code",
      "execution_count": 2,
      "metadata": {
        "id": "gm-tIb4WndSW"
      },
      "outputs": [],
      "source": [
        "from typing import List\n",
        "class Solution:\n",
        "    def trap(self, height: List[int]) -> int:\n",
        "        n = len(height)\n",
        "        l = 0\n",
        "        r = n - 1\n",
        "        maxLeft = 0\n",
        "        maxRight = 0\n",
        "        ans = 0\n",
        "        while l < r:\n",
        "            if height[l] < height[r]:\n",
        "                maxLeft = max(maxLeft, height[l])\n",
        "                ans += maxLeft - height[l]\n",
        "                l += 1\n",
        "            else:\n",
        "                maxRight = max(maxRight, height[r])\n",
        "                ans += maxRight - height[r]\n",
        "                r -= 1\n",
        "        return ans\n",
        "\n",
        ""
      ]
    },
    {
      "cell_type": "code",
      "source": [
        "from typing import List\n",
        "class Solution:\n",
        "    def longestConsecutive(self, nums: List[int]) -> int:\n",
        "        n = len(nums)\n",
        "        max_length = 0\n",
        "        nums = set(nums)\n",
        "\n",
        "        for num in nums:\n",
        "            if num - 1 not in nums:\n",
        "                start = num\n",
        "                while start in nums:\n",
        "                    start += 1\n",
        "\n",
        "                max_length = max(max_length, start-num)\n",
        "        return max_length\n",
        "\n",
        "\n",
        "\n",
        ""
      ],
      "metadata": {
        "id": "iRuL9c6_nqge"
      },
      "execution_count": 3,
      "outputs": []
    }
  ]
}