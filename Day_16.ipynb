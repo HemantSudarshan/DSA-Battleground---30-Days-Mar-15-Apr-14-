{
  "nbformat": 4,
  "nbformat_minor": 0,
  "metadata": {
    "colab": {
      "provenance": [],
      "authorship_tag": "ABX9TyOSCI0UOG+FVl3hCEEGrfVX",
      "include_colab_link": true
    },
    "kernelspec": {
      "name": "python3",
      "display_name": "Python 3"
    },
    "language_info": {
      "name": "python"
    }
  },
  "cells": [
    {
      "cell_type": "markdown",
      "metadata": {
        "id": "view-in-github",
        "colab_type": "text"
      },
      "source": [
        "<a href=\"https://colab.research.google.com/github/HemantSudarshan/DSA-Battleground---30-Days-Mar-15-Apr-14-/blob/main/Day_16.ipynb\" target=\"_parent\"><img src=\"https://colab.research.google.com/assets/colab-badge.svg\" alt=\"Open In Colab\"/></a>"
      ]
    },
    {
      "cell_type": "code",
      "execution_count": 2,
      "metadata": {
        "id": "WemXkjUQmf5Z"
      },
      "outputs": [],
      "source": [
        "class Solution:\n",
        "    def calculate(self, s: str) -> int:\n",
        "        stack = []\n",
        "        curr_num = 0\n",
        "        operation = 1\n",
        "        result = 0\n",
        "\n",
        "        for char in s:\n",
        "            if char.isdigit():\n",
        "                curr_num = curr_num * 10 + int(char)\n",
        "            elif char in ['+', '-']:\n",
        "                result += operation * curr_num\n",
        "                operation = 1 if char == '+' else -1\n",
        "                curr_num = 0\n",
        "            elif char == '(':\n",
        "                stack.append(result)\n",
        "                stack.append(operation)\n",
        "                result = 0\n",
        "                operation = 1\n",
        "            elif char == ')':\n",
        "                result += operation * curr_num\n",
        "                result *= stack.pop()\n",
        "                result += stack.pop()\n",
        "                curr_num = 0\n",
        "\n",
        "        result += operation * curr_num\n",
        "        return result"
      ]
    },
    {
      "cell_type": "code",
      "source": [
        "class Solution:\n",
        "    def isAdditiveNumber(self, num: str) -> bool:\n",
        "        def is_valid(num1, num2, remaining):\n",
        "            while remaining:\n",
        "                next_num = str(int(num1) + int(num2))\n",
        "                if not remaining.startswith(next_num):\n",
        "                    return False\n",
        "                remaining = remaining[len(next_num):]\n",
        "                num1, num2 = num2, next_num\n",
        "            return True\n",
        "\n",
        "        n = len(num)\n",
        "        for i in range(1, n // 2 + 1):\n",
        "            for j in range(1, (n - i) // 2 + 1):\n",
        "                num1, num2 = num[:i], num[i:i + j]\n",
        "                if (len(num1) > 1 and num1[0] == '0') or (len(num2) > 1 and num2[0] == '0'):\n",
        "                    continue\n",
        "                if is_valid(num1, num2, num[i + j:]):\n",
        "                    return True\n",
        "        return False"
      ],
      "metadata": {
        "id": "t4ndxWgkoJtv"
      },
      "execution_count": 3,
      "outputs": []
    }
  ]
}